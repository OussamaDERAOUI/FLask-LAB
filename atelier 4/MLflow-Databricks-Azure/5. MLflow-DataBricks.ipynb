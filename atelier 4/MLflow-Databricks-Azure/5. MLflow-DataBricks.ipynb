{
 "cells": [
  {
   "cell_type": "code",
   "execution_count": 0,
   "metadata": {
    "application/vnd.databricks.v1+cell": {
     "cellMetadata": {
      "byteLimit": 2048000,
      "rowLimit": 10000
     },
     "inputWidgets": {},
     "nuid": "7e601e02-6ad4-4939-a25c-d5cf337bbdd2",
     "showTitle": false,
     "title": ""
    }
   },
   "outputs": [
    {
     "output_type": "stream",
     "name": "stdout",
     "output_type": "stream",
     "text": [
      "Python interpreter will be restarted.\nRequirement already satisfied: spark in /local_disk0/.ephemeral_nfs/envs/pythonEnv-08226720-a1f5-4f3c-8aba-b3b02b311847/lib/python3.9/site-packages (0.2.1)\nPython interpreter will be restarted.\n"
     ]
    }
   ],
   "source": [
    "pip install spark "
   ]
  },
  {
   "cell_type": "code",
   "execution_count": 0,
   "metadata": {
    "application/vnd.databricks.v1+cell": {
     "cellMetadata": {
      "byteLimit": 2048000,
      "rowLimit": 10000
     },
     "inputWidgets": {},
     "nuid": "84bc428f-76af-43b0-ba5b-b9be37959a3b",
     "showTitle": false,
     "title": ""
    }
   },
   "outputs": [
    {
     "output_type": "display_data",
     "data": {
      "application/vnd.databricks.v1+bamboolib_hint": "{\"pd.DataFrames\": [], \"version\": \"0.0.1\"}",
      "text/plain": []
     },
     "metadata": {},
     "output_type": "display_data"
    }
   ],
   "source": [
    "import numpy as np\n",
    "import pandas as pd\n",
    "import matplotlib #\n",
    "import matplotlib.pyplot as plt\n",
    "import seaborn as sns\n",
    "import sklearn #\n",
    "import spark\n",
    "from sklearn.linear_model import LogisticRegression\n",
    "from sklearn.model_selection import train_test_split\n",
    "from sklearn.preprocessing import StandardScaler\n",
    "from sklearn.metrics import roc_auc_score, plot_roc_curve,confusion_matrix\n",
    "from sklearn.model_selection import KFold\n",
    "import mlflow"
   ]
  },
  {
   "cell_type": "code",
   "execution_count": 0,
   "metadata": {
    "application/vnd.databricks.v1+cell": {
     "cellMetadata": {
      "byteLimit": 2048000,
      "rowLimit": 10000
     },
     "inputWidgets": {},
     "nuid": "f91905a6-9af4-4cbd-bb6b-513e93b56016",
     "showTitle": false,
     "title": ""
    }
   },
   "outputs": [
    {
     "output_type": "stream",
     "name": "stdout",
     "output_type": "stream",
     "text": [
      "Requirement already satisfied: mlflow==1.20.2 in /local_disk0/.ephemeral_nfs/envs/pythonEnv-08226720-a1f5-4f3c-8aba-b3b02b311847/lib/python3.9/site-packages (1.20.2)\r\nRequirement already satisfied: prometheus-flask-exporter in /local_disk0/.ephemeral_nfs/envs/pythonEnv-08226720-a1f5-4f3c-8aba-b3b02b311847/lib/python3.9/site-packages (from mlflow==1.20.2) (0.23.0)\r\nRequirement already satisfied: protobuf>=3.7.0 in /databricks/python3/lib/python3.9/site-packages (from mlflow==1.20.2) (3.19.4)\r\nRequirement already satisfied: cloudpickle in /local_disk0/.ephemeral_nfs/envs/pythonEnv-08226720-a1f5-4f3c-8aba-b3b02b311847/lib/python3.9/site-packages (from mlflow==1.20.2) (3.0.0)\r\nRequirement already satisfied: packaging in /databricks/python3/lib/python3.9/site-packages (from mlflow==1.20.2) (21.3)\r\nRequirement already satisfied: alembic<=1.4.1 in /local_disk0/.ephemeral_nfs/envs/pythonEnv-08226720-a1f5-4f3c-8aba-b3b02b311847/lib/python3.9/site-packages (from mlflow==1.20.2) (1.4.1)\r\nRequirement already satisfied: sqlparse>=0.3.1 in /local_disk0/.ephemeral_nfs/envs/pythonEnv-08226720-a1f5-4f3c-8aba-b3b02b311847/lib/python3.9/site-packages (from mlflow==1.20.2) (0.4.4)\r\nRequirement already satisfied: entrypoints in /databricks/python3/lib/python3.9/site-packages (from mlflow==1.20.2) (0.4)\r\nRequirement already satisfied: querystring-parser in /local_disk0/.ephemeral_nfs/envs/pythonEnv-08226720-a1f5-4f3c-8aba-b3b02b311847/lib/python3.9/site-packages (from mlflow==1.20.2) (1.2.4)\r\nRequirement already satisfied: click>=7.0 in /local_disk0/.ephemeral_nfs/envs/pythonEnv-08226720-a1f5-4f3c-8aba-b3b02b311847/lib/python3.9/site-packages (from mlflow==1.20.2) (8.1.7)\r\nRequirement already satisfied: pytz in /databricks/python3/lib/python3.9/site-packages (from mlflow==1.20.2) (2021.3)\r\nRequirement already satisfied: Flask in /local_disk0/.ephemeral_nfs/envs/pythonEnv-08226720-a1f5-4f3c-8aba-b3b02b311847/lib/python3.9/site-packages (from mlflow==1.20.2) (3.0.0)\r\nRequirement already satisfied: pandas in /databricks/python3/lib/python3.9/site-packages (from mlflow==1.20.2) (1.4.2)\r\nRequirement already satisfied: sqlalchemy in /local_disk0/.ephemeral_nfs/envs/pythonEnv-08226720-a1f5-4f3c-8aba-b3b02b311847/lib/python3.9/site-packages (from mlflow==1.20.2) (2.0.25)\r\nRequirement already satisfied: gunicorn in /local_disk0/.ephemeral_nfs/envs/pythonEnv-08226720-a1f5-4f3c-8aba-b3b02b311847/lib/python3.9/site-packages (from mlflow==1.20.2) (21.2.0)\r\nRequirement already satisfied: importlib-metadata!=4.7.0,>=3.7.0 in /local_disk0/.ephemeral_nfs/envs/pythonEnv-08226720-a1f5-4f3c-8aba-b3b02b311847/lib/python3.9/site-packages (from mlflow==1.20.2) (7.0.1)\r\nRequirement already satisfied: numpy in /databricks/python3/lib/python3.9/site-packages (from mlflow==1.20.2) (1.21.5)\r\nRequirement already satisfied: pyyaml>=5.1 in /local_disk0/.ephemeral_nfs/envs/pythonEnv-08226720-a1f5-4f3c-8aba-b3b02b311847/lib/python3.9/site-packages (from mlflow==1.20.2) (6.0.1)\r\nRequirement already satisfied: gitpython>=2.1.0 in /local_disk0/.ephemeral_nfs/envs/pythonEnv-08226720-a1f5-4f3c-8aba-b3b02b311847/lib/python3.9/site-packages (from mlflow==1.20.2) (3.1.40)\r\nRequirement already satisfied: requests>=2.17.3 in /databricks/python3/lib/python3.9/site-packages (from mlflow==1.20.2) (2.27.1)\r\nRequirement already satisfied: databricks-cli>=0.8.7 in /local_disk0/.ephemeral_nfs/envs/pythonEnv-08226720-a1f5-4f3c-8aba-b3b02b311847/lib/python3.9/site-packages (from mlflow==1.20.2) (0.18.0)\r\nRequirement already satisfied: docker>=4.0.0 in /local_disk0/.ephemeral_nfs/envs/pythonEnv-08226720-a1f5-4f3c-8aba-b3b02b311847/lib/python3.9/site-packages (from mlflow==1.20.2) (7.0.0)\r\nRequirement already satisfied: Mako in /local_disk0/.ephemeral_nfs/envs/pythonEnv-08226720-a1f5-4f3c-8aba-b3b02b311847/lib/python3.9/site-packages (from alembic<=1.4.1->mlflow==1.20.2) (1.3.0)\r\nRequirement already satisfied: python-editor>=0.3 in /local_disk0/.ephemeral_nfs/envs/pythonEnv-08226720-a1f5-4f3c-8aba-b3b02b311847/lib/python3.9/site-packages (from alembic<=1.4.1->mlflow==1.20.2) (1.0.4)\r\nRequirement already satisfied: python-dateutil in /databricks/python3/lib/python3.9/site-packages (from alembic<=1.4.1->mlflow==1.20.2) (2.8.2)\r\nRequirement already satisfied: urllib3<3,>=1.26.7 in /databricks/python3/lib/python3.9/site-packages (from databricks-cli>=0.8.7->mlflow==1.20.2) (1.26.9)\r\nRequirement already satisfied: tabulate>=0.7.7 in /local_disk0/.ephemeral_nfs/envs/pythonEnv-08226720-a1f5-4f3c-8aba-b3b02b311847/lib/python3.9/site-packages (from databricks-cli>=0.8.7->mlflow==1.20.2) (0.9.0)\r\nRequirement already satisfied: six>=1.10.0 in /databricks/python3/lib/python3.9/site-packages (from databricks-cli>=0.8.7->mlflow==1.20.2) (1.16.0)\r\nRequirement already satisfied: oauthlib>=3.1.0 in /local_disk0/.ephemeral_nfs/envs/pythonEnv-08226720-a1f5-4f3c-8aba-b3b02b311847/lib/python3.9/site-packages (from databricks-cli>=0.8.7->mlflow==1.20.2) (3.2.2)\r\nRequirement already satisfied: pyjwt>=1.7.0 in /local_disk0/.ephemeral_nfs/envs/pythonEnv-08226720-a1f5-4f3c-8aba-b3b02b311847/lib/python3.9/site-packages (from databricks-cli>=0.8.7->mlflow==1.20.2) (2.8.0)\r\nRequirement already satisfied: gitdb<5,>=4.0.1 in /local_disk0/.ephemeral_nfs/envs/pythonEnv-08226720-a1f5-4f3c-8aba-b3b02b311847/lib/python3.9/site-packages (from gitpython>=2.1.0->mlflow==1.20.2) (4.0.11)\r\nRequirement already satisfied: smmap<6,>=3.0.1 in /local_disk0/.ephemeral_nfs/envs/pythonEnv-08226720-a1f5-4f3c-8aba-b3b02b311847/lib/python3.9/site-packages (from gitdb<5,>=4.0.1->gitpython>=2.1.0->mlflow==1.20.2) (5.0.1)\r\nRequirement already satisfied: zipp>=0.5 in /local_disk0/.ephemeral_nfs/envs/pythonEnv-08226720-a1f5-4f3c-8aba-b3b02b311847/lib/python3.9/site-packages (from importlib-metadata!=4.7.0,>=3.7.0->mlflow==1.20.2) (3.17.0)\r\nRequirement already satisfied: pyparsing!=3.0.5,>=2.0.2 in /databricks/python3/lib/python3.9/site-packages (from packaging->mlflow==1.20.2) (3.0.4)\r\nRequirement already satisfied: idna<4,>=2.5 in /databricks/python3/lib/python3.9/site-packages (from requests>=2.17.3->mlflow==1.20.2) (3.3)\r\nRequirement already satisfied: charset-normalizer~=2.0.0 in /databricks/python3/lib/python3.9/site-packages (from requests>=2.17.3->mlflow==1.20.2) (2.0.4)\r\nRequirement already satisfied: certifi>=2017.4.17 in /databricks/python3/lib/python3.9/site-packages (from requests>=2.17.3->mlflow==1.20.2) (2021.10.8)\r\nRequirement already satisfied: greenlet!=0.4.17 in /local_disk0/.ephemeral_nfs/envs/pythonEnv-08226720-a1f5-4f3c-8aba-b3b02b311847/lib/python3.9/site-packages (from sqlalchemy->mlflow==1.20.2) (3.0.3)\r\nRequirement already satisfied: typing-extensions>=4.6.0 in /local_disk0/.ephemeral_nfs/envs/pythonEnv-08226720-a1f5-4f3c-8aba-b3b02b311847/lib/python3.9/site-packages (from sqlalchemy->mlflow==1.20.2) (4.9.0)\r\nRequirement already satisfied: Werkzeug>=3.0.0 in /local_disk0/.ephemeral_nfs/envs/pythonEnv-08226720-a1f5-4f3c-8aba-b3b02b311847/lib/python3.9/site-packages (from Flask->mlflow==1.20.2) (3.0.1)\r\nRequirement already satisfied: blinker>=1.6.2 in /local_disk0/.ephemeral_nfs/envs/pythonEnv-08226720-a1f5-4f3c-8aba-b3b02b311847/lib/python3.9/site-packages (from Flask->mlflow==1.20.2) (1.7.0)\r\nRequirement already satisfied: Jinja2>=3.1.2 in /local_disk0/.ephemeral_nfs/envs/pythonEnv-08226720-a1f5-4f3c-8aba-b3b02b311847/lib/python3.9/site-packages (from Flask->mlflow==1.20.2) (3.1.2)\r\nRequirement already satisfied: itsdangerous>=2.1.2 in /local_disk0/.ephemeral_nfs/envs/pythonEnv-08226720-a1f5-4f3c-8aba-b3b02b311847/lib/python3.9/site-packages (from Flask->mlflow==1.20.2) (2.1.2)\r\nRequirement already satisfied: MarkupSafe>=2.0 in /local_disk0/.ephemeral_nfs/envs/pythonEnv-08226720-a1f5-4f3c-8aba-b3b02b311847/lib/python3.9/site-packages (from Jinja2>=3.1.2->Flask->mlflow==1.20.2) (2.1.3)\r\nRequirement already satisfied: prometheus-client in /databricks/python3/lib/python3.9/site-packages (from prometheus-flask-exporter->mlflow==1.20.2) (0.13.1)\r\n\u001B[33mWARNING: You are using pip version 21.2.4; however, version 23.3.2 is available.\r\nYou should consider upgrading via the '/local_disk0/.ephemeral_nfs/envs/pythonEnv-08226720-a1f5-4f3c-8aba-b3b02b311847/bin/python -m pip install --upgrade pip' command.\u001B[0m\r\n"
     ]
    }
   ],
   "source": [
    "!pip install mlflow==1.20.2"
   ]
  },
  {
   "cell_type": "code",
   "execution_count": 0,
   "metadata": {
    "application/vnd.databricks.v1+cell": {
     "cellMetadata": {
      "byteLimit": 2048000,
      "rowLimit": 10000
     },
     "inputWidgets": {},
     "nuid": "25c72c55-ece3-4ab2-adb9-65636c4c7d55",
     "showTitle": false,
     "title": ""
    }
   },
   "outputs": [],
   "source": [
    "from pyspark.sql import SparkSession\n",
    "\n",
    "# Create a Spark session\n",
    "spark = SparkSession.builder.appName(\"mlflow\").getOrCreate()\n",
    "\n",
    "# File location and type\n",
    "file_location = \"/FileStore/tables/creditcard.csv\"\n",
    "file_type = \"csv\"\n",
    "\n",
    "# CSV options\n",
    "infer_schema = \"true\"\n",
    "first_row_is_header = \"true\"\n",
    "delimiter = \",\"\n",
    "\n",
    "# The applied options are for CSV files. For other file types, these will be ignored.\n",
    "dataframe = spark.read.format(file_type) \\\n",
    "  .option(\"inferSchema\", infer_schema) \\\n",
    "  .option(\"header\", first_row_is_header) \\\n",
    "  .option(\"sep\", delimiter) \\\n",
    "  .load(file_location)\n",
    "\n",
    "# Convert Spark DataFrame to Pandas DataFrame\n",
    "df = dataframe.toPandas()"
   ]
  },
  {
   "cell_type": "code",
   "execution_count": 0,
   "metadata": {
    "application/vnd.databricks.v1+cell": {
     "cellMetadata": {
      "byteLimit": 2048000,
      "rowLimit": 10000
     },
     "inputWidgets": {},
     "nuid": "bc637a22-410d-4100-8348-3b5369817534",
     "showTitle": false,
     "title": ""
    }
   },
   "outputs": [
    {
     "output_type": "display_data",
     "data": {
      "text/html": [
       "<div>\n",
       "<style scoped>\n",
       "    .dataframe tbody tr th:only-of-type {\n",
       "        vertical-align: middle;\n",
       "    }\n",
       "\n",
       "    .dataframe tbody tr th {\n",
       "        vertical-align: top;\n",
       "    }\n",
       "\n",
       "    .dataframe thead th {\n",
       "        text-align: right;\n",
       "    }\n",
       "</style>\n",
       "<table border=\"1\" class=\"dataframe\">\n",
       "  <thead>\n",
       "    <tr style=\"text-align: right;\">\n",
       "      <th></th>\n",
       "      <th>V1</th>\n",
       "      <th>V2</th>\n",
       "      <th>V3</th>\n",
       "      <th>V4</th>\n",
       "      <th>V5</th>\n",
       "      <th>V6</th>\n",
       "      <th>V7</th>\n",
       "      <th>V8</th>\n",
       "      <th>V9</th>\n",
       "      <th>V10</th>\n",
       "      <th>...</th>\n",
       "      <th>V21</th>\n",
       "      <th>V22</th>\n",
       "      <th>V23</th>\n",
       "      <th>V24</th>\n",
       "      <th>V25</th>\n",
       "      <th>V26</th>\n",
       "      <th>V27</th>\n",
       "      <th>V28</th>\n",
       "      <th>Amount</th>\n",
       "      <th>Class</th>\n",
       "    </tr>\n",
       "  </thead>\n",
       "  <tbody>\n",
       "    <tr>\n",
       "      <th>0</th>\n",
       "      <td>-1.359807</td>\n",
       "      <td>-0.072781</td>\n",
       "      <td>2.536347</td>\n",
       "      <td>1.378155</td>\n",
       "      <td>-0.338321</td>\n",
       "      <td>0.462388</td>\n",
       "      <td>0.239599</td>\n",
       "      <td>0.098698</td>\n",
       "      <td>0.363787</td>\n",
       "      <td>0.090794</td>\n",
       "      <td>...</td>\n",
       "      <td>-0.018307</td>\n",
       "      <td>0.277838</td>\n",
       "      <td>-0.110474</td>\n",
       "      <td>0.066928</td>\n",
       "      <td>0.128539</td>\n",
       "      <td>-0.189115</td>\n",
       "      <td>0.133558</td>\n",
       "      <td>-0.021053</td>\n",
       "      <td>149.62</td>\n",
       "      <td>0</td>\n",
       "    </tr>\n",
       "    <tr>\n",
       "      <th>1</th>\n",
       "      <td>1.191857</td>\n",
       "      <td>0.266151</td>\n",
       "      <td>0.166480</td>\n",
       "      <td>0.448154</td>\n",
       "      <td>0.060018</td>\n",
       "      <td>-0.082361</td>\n",
       "      <td>-0.078803</td>\n",
       "      <td>0.085102</td>\n",
       "      <td>-0.255425</td>\n",
       "      <td>-0.166974</td>\n",
       "      <td>...</td>\n",
       "      <td>-0.225775</td>\n",
       "      <td>-0.638672</td>\n",
       "      <td>0.101288</td>\n",
       "      <td>-0.339846</td>\n",
       "      <td>0.167170</td>\n",
       "      <td>0.125895</td>\n",
       "      <td>-0.008983</td>\n",
       "      <td>0.014724</td>\n",
       "      <td>2.69</td>\n",
       "      <td>0</td>\n",
       "    </tr>\n",
       "    <tr>\n",
       "      <th>2</th>\n",
       "      <td>-1.358354</td>\n",
       "      <td>-1.340163</td>\n",
       "      <td>1.773209</td>\n",
       "      <td>0.379780</td>\n",
       "      <td>-0.503198</td>\n",
       "      <td>1.800499</td>\n",
       "      <td>0.791461</td>\n",
       "      <td>0.247676</td>\n",
       "      <td>-1.514654</td>\n",
       "      <td>0.207643</td>\n",
       "      <td>...</td>\n",
       "      <td>0.247998</td>\n",
       "      <td>0.771679</td>\n",
       "      <td>0.909412</td>\n",
       "      <td>-0.689281</td>\n",
       "      <td>-0.327642</td>\n",
       "      <td>-0.139097</td>\n",
       "      <td>-0.055353</td>\n",
       "      <td>-0.059752</td>\n",
       "      <td>378.66</td>\n",
       "      <td>0</td>\n",
       "    </tr>\n",
       "    <tr>\n",
       "      <th>3</th>\n",
       "      <td>-0.966272</td>\n",
       "      <td>-0.185226</td>\n",
       "      <td>1.792993</td>\n",
       "      <td>-0.863291</td>\n",
       "      <td>-0.010309</td>\n",
       "      <td>1.247203</td>\n",
       "      <td>0.237609</td>\n",
       "      <td>0.377436</td>\n",
       "      <td>-1.387024</td>\n",
       "      <td>-0.054952</td>\n",
       "      <td>...</td>\n",
       "      <td>-0.108300</td>\n",
       "      <td>0.005274</td>\n",
       "      <td>-0.190321</td>\n",
       "      <td>-1.175575</td>\n",
       "      <td>0.647376</td>\n",
       "      <td>-0.221929</td>\n",
       "      <td>0.062723</td>\n",
       "      <td>0.061458</td>\n",
       "      <td>123.50</td>\n",
       "      <td>0</td>\n",
       "    </tr>\n",
       "    <tr>\n",
       "      <th>4</th>\n",
       "      <td>-1.158233</td>\n",
       "      <td>0.877737</td>\n",
       "      <td>1.548718</td>\n",
       "      <td>0.403034</td>\n",
       "      <td>-0.407193</td>\n",
       "      <td>0.095921</td>\n",
       "      <td>0.592941</td>\n",
       "      <td>-0.270533</td>\n",
       "      <td>0.817739</td>\n",
       "      <td>0.753074</td>\n",
       "      <td>...</td>\n",
       "      <td>-0.009431</td>\n",
       "      <td>0.798278</td>\n",
       "      <td>-0.137458</td>\n",
       "      <td>0.141267</td>\n",
       "      <td>-0.206010</td>\n",
       "      <td>0.502292</td>\n",
       "      <td>0.219422</td>\n",
       "      <td>0.215153</td>\n",
       "      <td>69.99</td>\n",
       "      <td>0</td>\n",
       "    </tr>\n",
       "  </tbody>\n",
       "</table>\n",
       "<p>5 rows × 30 columns</p>\n",
       "</div>"
      ]
     },
     "metadata": {
      "application/vnd.databricks.v1+output": {
       "addedWidgets": {},
       "arguments": {},
       "data": "<div>\n<style scoped>\n    .dataframe tbody tr th:only-of-type {\n        vertical-align: middle;\n    }\n\n    .dataframe tbody tr th {\n        vertical-align: top;\n    }\n\n    .dataframe thead th {\n        text-align: right;\n    }\n</style>\n<table border=\"1\" class=\"dataframe\">\n  <thead>\n    <tr style=\"text-align: right;\">\n      <th></th>\n      <th>V1</th>\n      <th>V2</th>\n      <th>V3</th>\n      <th>V4</th>\n      <th>V5</th>\n      <th>V6</th>\n      <th>V7</th>\n      <th>V8</th>\n      <th>V9</th>\n      <th>V10</th>\n      <th>...</th>\n      <th>V21</th>\n      <th>V22</th>\n      <th>V23</th>\n      <th>V24</th>\n      <th>V25</th>\n      <th>V26</th>\n      <th>V27</th>\n      <th>V28</th>\n      <th>Amount</th>\n      <th>Class</th>\n    </tr>\n  </thead>\n  <tbody>\n    <tr>\n      <th>0</th>\n      <td>-1.359807</td>\n      <td>-0.072781</td>\n      <td>2.536347</td>\n      <td>1.378155</td>\n      <td>-0.338321</td>\n      <td>0.462388</td>\n      <td>0.239599</td>\n      <td>0.098698</td>\n      <td>0.363787</td>\n      <td>0.090794</td>\n      <td>...</td>\n      <td>-0.018307</td>\n      <td>0.277838</td>\n      <td>-0.110474</td>\n      <td>0.066928</td>\n      <td>0.128539</td>\n      <td>-0.189115</td>\n      <td>0.133558</td>\n      <td>-0.021053</td>\n      <td>149.62</td>\n      <td>0</td>\n    </tr>\n    <tr>\n      <th>1</th>\n      <td>1.191857</td>\n      <td>0.266151</td>\n      <td>0.166480</td>\n      <td>0.448154</td>\n      <td>0.060018</td>\n      <td>-0.082361</td>\n      <td>-0.078803</td>\n      <td>0.085102</td>\n      <td>-0.255425</td>\n      <td>-0.166974</td>\n      <td>...</td>\n      <td>-0.225775</td>\n      <td>-0.638672</td>\n      <td>0.101288</td>\n      <td>-0.339846</td>\n      <td>0.167170</td>\n      <td>0.125895</td>\n      <td>-0.008983</td>\n      <td>0.014724</td>\n      <td>2.69</td>\n      <td>0</td>\n    </tr>\n    <tr>\n      <th>2</th>\n      <td>-1.358354</td>\n      <td>-1.340163</td>\n      <td>1.773209</td>\n      <td>0.379780</td>\n      <td>-0.503198</td>\n      <td>1.800499</td>\n      <td>0.791461</td>\n      <td>0.247676</td>\n      <td>-1.514654</td>\n      <td>0.207643</td>\n      <td>...</td>\n      <td>0.247998</td>\n      <td>0.771679</td>\n      <td>0.909412</td>\n      <td>-0.689281</td>\n      <td>-0.327642</td>\n      <td>-0.139097</td>\n      <td>-0.055353</td>\n      <td>-0.059752</td>\n      <td>378.66</td>\n      <td>0</td>\n    </tr>\n    <tr>\n      <th>3</th>\n      <td>-0.966272</td>\n      <td>-0.185226</td>\n      <td>1.792993</td>\n      <td>-0.863291</td>\n      <td>-0.010309</td>\n      <td>1.247203</td>\n      <td>0.237609</td>\n      <td>0.377436</td>\n      <td>-1.387024</td>\n      <td>-0.054952</td>\n      <td>...</td>\n      <td>-0.108300</td>\n      <td>0.005274</td>\n      <td>-0.190321</td>\n      <td>-1.175575</td>\n      <td>0.647376</td>\n      <td>-0.221929</td>\n      <td>0.062723</td>\n      <td>0.061458</td>\n      <td>123.50</td>\n      <td>0</td>\n    </tr>\n    <tr>\n      <th>4</th>\n      <td>-1.158233</td>\n      <td>0.877737</td>\n      <td>1.548718</td>\n      <td>0.403034</td>\n      <td>-0.407193</td>\n      <td>0.095921</td>\n      <td>0.592941</td>\n      <td>-0.270533</td>\n      <td>0.817739</td>\n      <td>0.753074</td>\n      <td>...</td>\n      <td>-0.009431</td>\n      <td>0.798278</td>\n      <td>-0.137458</td>\n      <td>0.141267</td>\n      <td>-0.206010</td>\n      <td>0.502292</td>\n      <td>0.219422</td>\n      <td>0.215153</td>\n      <td>69.99</td>\n      <td>0</td>\n    </tr>\n  </tbody>\n</table>\n<p>5 rows × 30 columns</p>\n</div>",
       "datasetInfos": [],
       "metadata": {},
       "removedWidgets": [],
       "textData": null,
       "type": "htmlSandbox"
      }
     },
     "output_type": "display_data"
    }
   ],
   "source": [
    "df = df.drop(\"Time\", axis=1) # cette colonne n'apporte rien à notre analyse \n",
    "df.head()\n",
    "  "
   ]
  },
  {
   "cell_type": "code",
   "execution_count": 0,
   "metadata": {
    "application/vnd.databricks.v1+cell": {
     "cellMetadata": {
      "byteLimit": 2048000,
      "rowLimit": 10000
     },
     "inputWidgets": {},
     "nuid": "7cb1a8ae-f3fa-4ea8-9599-3c698b171f85",
     "showTitle": false,
     "title": ""
    }
   },
   "outputs": [
    {
     "output_type": "stream",
     "name": "stdout",
     "output_type": "stream",
     "text": [
      "Out[7]: <AxesSubplot:xlabel='Class', ylabel='count'>"
     ]
    },
    {
     "output_type": "display_data",
     "data": {
      "image/png": "[encoded data removed]"
     },
     "metadata": {
      "application/vnd.databricks.v1+output": {
       "addedWidgets": {},
       "arguments": {},
       "data": "data:image/png;base64,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\n",
       "datasetInfos": [],
       "metadata": {},
       "removedWidgets": [],
       "type": "image"
      }
     },
     "output_type": "display_data"
    }
   ],
   "source": [
    "sns.countplot(x='Class',data=df)"
   ]
  },
  {
   "cell_type": "code",
   "execution_count": 0,
   "metadata": {
    "application/vnd.databricks.v1+cell": {
     "cellMetadata": {
      "byteLimit": 2048000,
      "rowLimit": 10000
     },
     "inputWidgets": {},
     "nuid": "c8826df7-e677-42d0-9265-e972c3070577",
     "showTitle": false,
     "title": ""
    }
   },
   "outputs": [],
   "source": [
    "normal = df[df.Class == 0].sample(frac=0.5,random_state=2020).reset_index(drop=True)\n",
    "anomaly = df[df.Class == 1]"
   ]
  },
  {
   "cell_type": "code",
   "execution_count": 0,
   "metadata": {
    "application/vnd.databricks.v1+cell": {
     "cellMetadata": {
      "byteLimit": 2048000,
      "rowLimit": 10000
     },
     "inputWidgets": {},
     "nuid": "22ce2fad-b96d-4fe6-ae8e-13e77062932b",
     "showTitle": false,
     "title": ""
    }
   },
   "outputs": [
    {
     "output_type": "stream",
     "name": "stdout",
     "output_type": "stream",
     "text": [
      "Normal: (142158, 30)\nAnomaly: (492, 30)\n"
     ]
    }
   ],
   "source": [
    "print(f\"Normal: {normal.shape}\")\n",
    "print(f\"Anomaly: {anomaly.shape}\")"
   ]
  },
  {
   "cell_type": "code",
   "execution_count": 0,
   "metadata": {
    "application/vnd.databricks.v1+cell": {
     "cellMetadata": {
      "byteLimit": 2048000,
      "rowLimit": 10000
     },
     "inputWidgets": {},
     "nuid": "5d8e4e74-4514-497c-92f5-00870f5c0d60",
     "showTitle": false,
     "title": ""
    }
   },
   "outputs": [],
   "source": [
    "normal_train, normal_test = train_test_split(normal,test_size = 0.2, random_state = 2020)\n",
    "anomaly_train, anomaly_test = train_test_split(anomaly, test_size = 0.2, random_state = 2020)\n",
    "normal_train, normal_validate = train_test_split(normal_train,test_size = 0.25, random_state = 2020)\n",
    "anomaly_train, anomaly_validate = train_test_split(anomaly_train, test_size = 0.25, random_state = 2020)"
   ]
  },
  {
   "cell_type": "code",
   "execution_count": 0,
   "metadata": {
    "application/vnd.databricks.v1+cell": {
     "cellMetadata": {
      "byteLimit": 2048000,
      "rowLimit": 10000
     },
     "inputWidgets": {},
     "nuid": "d8b829c4-0aaa-4731-b522-791c56f36b5d",
     "showTitle": false,
     "title": ""
    }
   },
   "outputs": [],
   "source": [
    "x_train = pd.concat((normal_train, anomaly_train))\n",
    "x_test = pd.concat((normal_test, anomaly_test))\n",
    "x_validate = pd.concat((normal_validate, anomaly_validate))"
   ]
  },
  {
   "cell_type": "code",
   "execution_count": 0,
   "metadata": {
    "application/vnd.databricks.v1+cell": {
     "cellMetadata": {
      "byteLimit": 2048000,
      "rowLimit": 10000
     },
     "inputWidgets": {},
     "nuid": "0f9154fc-e384-4c11-8664-d189b7dd90aa",
     "showTitle": false,
     "title": ""
    }
   },
   "outputs": [],
   "source": [
    "y_train = np.array(x_train[\"Class\"])\n",
    "y_test = np.array(x_test[\"Class\"])\n",
    "y_validate = np.array(x_validate[\"Class\"])"
   ]
  },
  {
   "cell_type": "code",
   "execution_count": 0,
   "metadata": {
    "application/vnd.databricks.v1+cell": {
     "cellMetadata": {
      "byteLimit": 2048000,
      "rowLimit": 10000
     },
     "inputWidgets": {},
     "nuid": "218a641e-5e9c-4204-8bc5-6bb17b3ecf04",
     "showTitle": false,
     "title": ""
    }
   },
   "outputs": [],
   "source": [
    "x_train = x_train.drop(\"Class\", axis=1)\n",
    "x_test = x_test.drop(\"Class\", axis=1)\n",
    "x_validate = x_validate.drop(\"Class\", axis=1)"
   ]
  },
  {
   "cell_type": "code",
   "execution_count": 0,
   "metadata": {
    "application/vnd.databricks.v1+cell": {
     "cellMetadata": {
      "byteLimit": 2048000,
      "rowLimit": 10000
     },
     "inputWidgets": {},
     "nuid": "fce1f6fa-3643-4eb8-a6bf-8ad149712741",
     "showTitle": false,
     "title": ""
    }
   },
   "outputs": [
    {
     "output_type": "stream",
     "name": "stdout",
     "output_type": "stream",
     "text": [
      "Training sets:\nx_train: (85588, 29) \ny_train:(85588,)\n\nTesting sets:\nx_test: (28531, 29) \ny_test:(28531,)\n\nValidation sets:\nx_validate: (28531, 29) \ny_validate: (28531,)\n"
     ]
    }
   ],
   "source": [
    "print(\"Training sets:\\nx_train: {} \\ny_train:{}\".format(x_train.shape, y_train.shape))\n",
    "print(\"\\nTesting sets:\\nx_test: {} \\ny_test:{}\".format(x_test.shape, y_test.shape))\n",
    "print(\"\\nValidation sets:\\nx_validate: {} \\ny_validate: {}\".format(x_validate.shape, y_validate.shape))"
   ]
  },
  {
   "cell_type": "code",
   "execution_count": 0,
   "metadata": {
    "application/vnd.databricks.v1+cell": {
     "cellMetadata": {
      "byteLimit": 2048000,
      "rowLimit": 10000
     },
     "inputWidgets": {},
     "nuid": "f9673742-2221-44a7-87c0-36f5a0d330d3",
     "showTitle": false,
     "title": ""
    }
   },
   "outputs": [
    {
     "output_type": "stream",
     "name": "stdout",
     "output_type": "stream",
     "text": [
      "Out[15]: StandardScaler()"
     ]
    }
   ],
   "source": [
    "scaler = StandardScaler()\n",
    "scaler.fit(pd.concat((normal, anomaly)).drop(\"Class\", axis=1))"
   ]
  },
  {
   "cell_type": "code",
   "execution_count": 0,
   "metadata": {
    "application/vnd.databricks.v1+cell": {
     "cellMetadata": {
      "byteLimit": 2048000,
      "rowLimit": 10000
     },
     "inputWidgets": {},
     "nuid": "c722fc83-a64a-4356-b12f-7fd98db8b79d",
     "showTitle": false,
     "title": ""
    }
   },
   "outputs": [],
   "source": [
    "x_train = scaler.transform(x_train)\n",
    "x_test = scaler.transform(x_test)\n",
    "x_validate = scaler.transform(x_validate)"
   ]
  },
  {
   "cell_type": "code",
   "execution_count": 0,
   "metadata": {
    "application/vnd.databricks.v1+cell": {
     "cellMetadata": {
      "byteLimit": 2048000,
      "rowLimit": 10000
     },
     "inputWidgets": {},
     "nuid": "bfc4d63f-a9c7-4239-8d2c-2819312632ec",
     "showTitle": false,
     "title": ""
    }
   },
   "outputs": [],
   "source": [
    "def train(sk_model, x_train, y_train):\n",
    "    sk_model = sk_model.fit(x_train, y_train)\n",
    "    train_acc = sk_model.score(x_train, y_train)\n",
    "    mlflow.log_metric(\"train_acc\", train_acc)\n",
    "    print(f\"Train Accuracy: {train_acc:.3%}\")"
   ]
  },
  {
   "cell_type": "code",
   "execution_count": 0,
   "metadata": {
    "application/vnd.databricks.v1+cell": {
     "cellMetadata": {
      "byteLimit": 2048000,
      "rowLimit": 10000
     },
     "inputWidgets": {},
     "nuid": "cabf8c63-9946-40f5-a966-3bfa0b14bc3e",
     "showTitle": false,
     "title": ""
    }
   },
   "outputs": [],
   "source": [
    "def evaluate(sk_model, x_test, y_test):\n",
    "    eval_acc = sk_model.score(x_test, y_test)\n",
    "    preds = sk_model.predict(x_test)\n",
    "    auc_score = roc_auc_score(y_test, preds)\n",
    "    mlflow.log_metric(\"eval_acc\", eval_acc) # nous avons fait la même chose pour l'accuracy de test (evaluation)\n",
    "    mlflow.log_metric(\"auc_score\", auc_score)# aussi pour l'AUC score \n",
    "    print(f\"Auc Score: {auc_score:.3%}\")\n",
    "    print(f\"Eval Accuracy: {eval_acc:.3%}\")\n",
    "    roc_plot = plot_roc_curve(sk_model, x_test, y_test,name='Scikit-learn ROC Curve')\n",
    "    plt.savefig(\"sklearn_roc_plot.png\")\n",
    "    plt.show()\n",
    "    plt.clf()\n",
    "    conf_matrix = confusion_matrix(y_test, preds)\n",
    "    ax = sns.heatmap(conf_matrix, annot=True,fmt='g')\n",
    "    ax.invert_xaxis()\n",
    "    ax.invert_yaxis()\n",
    "    plt.ylabel('Actual')\n",
    "    plt.xlabel('Predicted')\n",
    "    plt.title(\"Confusion Matrix\")\n",
    "    plt.savefig(\"sklearn_conf_matrix.png\")\n",
    "    # nous avons dit à MLflow de sauvegarder ces deux figure afin de les consulter à chaque \n",
    "    # exécution d'une façon organisée comme nous allons le voir plus loin dans cet atelier  \n",
    "    mlflow.log_artifact(\"sklearn_roc_plot.png\")\n",
    "    mlflow.log_artifact(\"sklearn_conf_matrix.png\")"
   ]
  },
  {
   "cell_type": "code",
   "execution_count": 0,
   "metadata": {
    "application/vnd.databricks.v1+cell": {
     "cellMetadata": {
      "byteLimit": 2048000,
      "rowLimit": 10000
     },
     "inputWidgets": {},
     "nuid": "7dc551ab-f1ba-4b81-9173-580e0d155318",
     "showTitle": false,
     "title": ""
    }
   },
   "outputs": [
    {
     "output_type": "stream",
     "name": "stdout",
     "output_type": "stream",
     "text": [
      "Wrote 97 bytes.\nOut[19]: True"
     ]
    }
   ],
   "source": [
    "#to configure your DataBricks CLI\n",
    "token = dbutils.notebook.entry_point.getDbutils().notebook().getContext().apiToken().get()\n",
    "dbutils.fs.put(\"file:///root/.databrickscfg\",\"[DEFAULT]\\nhost=https://community.cloud.databricks.com\\ntoken =\"+token,overwrite=True)"
   ]
  },
  {
   "cell_type": "code",
   "execution_count": 0,
   "metadata": {
    "application/vnd.databricks.v1+cell": {
     "cellMetadata": {
      "byteLimit": 2048000,
      "rowLimit": 10000
     },
     "inputWidgets": {},
     "nuid": "ad5ef2cc-cf73-40fc-98ff-a9b4b2750298",
     "showTitle": false,
     "title": ""
    }
   },
   "outputs": [
    {
     "output_type": "stream",
     "name": "stdout",
     "output_type": "stream",
     "text": [
      "INFO: '/Users/oussama.deraoui@um6p.ma/scikit_learn_experiment1' does not exist. Creating a new experiment\n"
     ]
    },
    {
     "output_type": "stream",
     "name": "stderr",
     "output_type": "stream",
     "text": [
      "/databricks/python/lib/python3.9/site-packages/sklearn/utils/optimize.py:210: ConvergenceWarning: newton-cg failed to converge. Increase the number of iterations.\n  warnings.warn(\n"
     ]
    },
    {
     "output_type": "stream",
     "name": "stdout",
     "output_type": "stream",
     "text": [
      "Train Accuracy: 99.893%\nAuc Score: 85.341%\nEval Accuracy: 99.874%\n"
     ]
    },
    {
     "output_type": "stream",
     "name": "stderr",
     "output_type": "stream",
     "text": [
      "/databricks/python/lib/python3.9/site-packages/sklearn/utils/deprecation.py:87: FutureWarning: Function plot_roc_curve is deprecated; Function :func:`plot_roc_curve` is deprecated in 1.0 and will be removed in 1.2. Use one of the class methods: :meth:`sklearn.metric.RocCurveDisplay.from_predictions` or :meth:`sklearn.metric.RocCurveDisplay.from_estimator`.\n  warnings.warn(msg, category=FutureWarning)\n"
     ]
    },
    {
     "output_type": "display_data",
     "data": {
      "image/png": "[encoded data removed]"
     },
     "metadata": {
      "application/vnd.databricks.v1+output": {
       "addedWidgets": {},
       "arguments": {},
       "data": "data:image/png;base64,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\n",
       "datasetInfos": [],
       "metadata": {},
       "removedWidgets": [],
       "type": "image"
      }
     },
     "output_type": "display_data"
    },
    {
     "output_type": "stream",
     "name": "stdout",
     "output_type": "stream",
     "text": [
      "Model run:  20d36718d5aa4c5a826f9fb577087ae1\n"
     ]
    },
    {
     "output_type": "display_data",
     "data": {
      "image/png": "[encoded data removed]"
     },
     "metadata": {
      "application/vnd.databricks.v1+output": {
       "addedWidgets": {},
       "arguments": {},
       "data": "data:image/png;base64,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\n",
       "datasetInfos": [],
       "metadata": {},
       "removedWidgets": [],
       "type": "image"
      }
     },
     "output_type": "display_data"
    }
   ],
   "source": [
    "sk_model = LogisticRegression(random_state=None,max_iter=10, solver='newton-cg')\n",
    "mlflow.set_experiment(\"/Users/oussama.deraoui@um6p.ma/scikit_learn_experiment1\")\n",
    "with mlflow.start_run():\n",
    "    train(sk_model, x_train, y_train)\n",
    "    evaluate(sk_model, x_test, y_test)\n",
    "    mlflow.sklearn.log_model(sk_model, \"log_reg_model\")\n",
    "    print(\"Model run: \", mlflow.active_run().info.run_uuid)\n",
    "mlflow.end_run()"
   ]
  },
  {
   "cell_type": "code",
   "execution_count": 0,
   "metadata": {
    "application/vnd.databricks.v1+cell": {
     "cellMetadata": {
      "byteLimit": 2048000,
      "rowLimit": 10000
     },
     "inputWidgets": {},
     "nuid": "3413c518-1432-486b-89d1-31de2aadbbf5",
     "showTitle": false,
     "title": ""
    }
   },
   "outputs": [
    {
     "output_type": "display_data",
     "data": {
      "text/html": [
       "<style scoped>\n",
       "  .ansiout {\n",
       "    display: block;\n",
       "    unicode-bidi: embed;\n",
       "    white-space: pre-wrap;\n",
       "    word-wrap: break-word;\n",
       "    word-break: break-all;\n",
       "    font-family: \"Menlo\", \"Monaco\", \"Consolas\", \"Ubuntu Mono\", \"Source Code Pro\", monospace;\n",
       "    font-size: 13px;\n",
       "    color: #555;\n",
       "    margin-left: 4px;\n",
       "    line-height: 19px;\n",
       "  }\n",
       "</style>"
      ]
     },
     "metadata": {
      "application/vnd.databricks.v1+output": {
       "arguments": {},
       "data": "",
       "errorSummary": "Cancelled",
       "errorTraceType": "html",
       "metadata": {},
       "type": "ipynbError"
      }
     },
     "output_type": "display_data"
    }
   ],
   "source": [
    "\n",
    "# define evaluation\n",
    "\n",
    "# define search space\n",
    "from sklearn.model_selection import RepeatedStratifiedKFold\n",
    "from sklearn.model_selection import RandomizedSearchCV\n",
    "from scipy.stats import loguniform\n",
    "# summarize result\n",
    "#print('Best Score: %s' % result.best_score_)\n",
    "#print('Best Hyperparameters: %s' % result.best_params_)\n",
    "\n",
    "model = LogisticRegression()\n",
    "cv = RepeatedStratifiedKFold(n_splits=10, n_repeats=3, random_state=1)\n",
    "space = dict()\n",
    "space['solver'] = ['newton-cg', 'lbfgs', 'liblinear']\n",
    "space['penalty'] = ['none', 'l1', 'l2', 'elasticnet']\n",
    "space['C'] = loguniform(1e-5, 100)\n",
    "mlflow.set_experiment(\"/Users/oussama.deraoui@um6p.ma/scikit_learn_experiment1\")\n",
    "with mlflow.start_run():\n",
    "    search = RandomizedSearchCV(model, space, n_iter=500, scoring='accuracy', n_jobs=-1, cv=cv, random_state=1)\n",
    "    sk_model = search.fit(x_train, y_train)\n",
    "    train(sk_model, x_train, y_train)\n",
    "    evaluate(sk_model, x_test, y_test)\n",
    "    mlflow.sklearn.log_model(sk_model, \"log_reg_model\")\n",
    "    print(\"Model run: \", mlflow.active_run().info.run_uuid)\n",
    "mlflow.end_run()"
   ]
  },
  {
   "cell_type": "code",
   "execution_count": 0,
   "metadata": {
    "application/vnd.databricks.v1+cell": {
     "cellMetadata": {
      "byteLimit": 2048000,
      "rowLimit": 10000
     },
     "inputWidgets": {},
     "nuid": "484c7e86-82b2-4fea-aacf-15612b24dff7",
     "showTitle": false,
     "title": ""
    }
   },
   "outputs": [
    {
     "output_type": "display_data",
     "data": {
      "text/html": [
       "<style scoped>\n",
       "  .table-result-container {\n",
       "    max-height: 300px;\n",
       "    overflow: auto;\n",
       "  }\n",
       "  table, th, td {\n",
       "    border: 1px solid black;\n",
       "    border-collapse: collapse;\n",
       "  }\n",
       "  th, td {\n",
       "    padding: 5px;\n",
       "  }\n",
       "  th {\n",
       "    text-align: left;\n",
       "  }\n",
       "</style><div class='table-result-container'><table class='table-result'><thead style='background-color: white'><tr><th>run_id</th><th>experiment_id</th><th>status</th><th>artifact_uri</th><th>start_time</th><th>end_time</th><th>metrics.auc_score</th><th>metrics.eval_acc</th><th>metrics.train_acc</th><th>tags.mlflow.databricks.cluster.id</th><th>tags.mlflow.databricks.notebookRevisionID</th><th>tags.mlflow.user</th><th>tags.mlflow.source.name</th><th>tags.mlflow.databricks.notebookPath</th><th>tags.mlflow.runName</th><th>tags.mlflow.databricks.notebookID</th><th>tags.mlflow.source.type</th><th>tags.mlflow.databricks.cluster.info</th><th>tags.mlflow.databricks.notebook.commandID</th><th>tags.mlflow.databricks.webappURL</th><th>tags.mlflow.databricks.cluster.libraries</th><th>tags.mlflow.log-model.history</th></tr></thead><tbody><tr><td>5802942076674f449ac318a7597196be</td><td>4281508244933278</td><td>FAILED</td><td>dbfs:/databricks/mlflow-tracking/4281508244933278/5802942076674f449ac318a7597196be/artifacts</td><td>2024-01-07T20:32:07.595+0000</td><td>2024-01-07T20:43:09.398+0000</td><td>null</td><td>null</td><td>null</td><td>0107-195947-boh23abv</td><td>1704660189847</td><td>oussama.deraoui@um6p.ma</td><td>/Users/oussama.deraoui@um6p.ma/5. MLflow-DataBricks</td><td>/Users/oussama.deraoui@um6p.ma/5. MLflow-DataBricks</td><td>shivering-kit-9</td><td>4281508244933253</td><td>NOTEBOOK</td><td>{\"cluster_name\":\"cluster\",\"spark_version\":\"12.2.x-scala2.12\",\"node_type_id\":\"dev-tier-node\",\"driver_node_type_id\":\"dev-tier-node\",\"autotermination_minutes\":120,\"disk_spec\":{\"disk_count\":0},\"num_workers\":0}</td><td>5532961833213388336_6597767223985819418_955fce90da6f458abaed77d009acafc5</td><td>https://community.cloud.databricks.com</td><td>{\"installable\":[],\"redacted\":[]}</td><td>null</td></tr><tr><td>20d36718d5aa4c5a826f9fb577087ae1</td><td>4281508244933278</td><td>FINISHED</td><td>dbfs:/databricks/mlflow-tracking/4281508244933278/20d36718d5aa4c5a826f9fb577087ae1/artifacts</td><td>2024-01-07T20:31:57.824+0000</td><td>2024-01-07T20:32:06.376+0000</td><td>0.8534122528037835</td><td>0.9987382145736217</td><td>0.9989250829555545</td><td>0107-195947-boh23abv</td><td>1704659526752</td><td>oussama.deraoui@um6p.ma</td><td>/Users/oussama.deraoui@um6p.ma/5. MLflow-DataBricks</td><td>/Users/oussama.deraoui@um6p.ma/5. MLflow-DataBricks</td><td>tasteful-cow-841</td><td>4281508244933253</td><td>NOTEBOOK</td><td>{\"cluster_name\":\"cluster\",\"spark_version\":\"12.2.x-scala2.12\",\"node_type_id\":\"dev-tier-node\",\"driver_node_type_id\":\"dev-tier-node\",\"autotermination_minutes\":120,\"disk_spec\":{\"disk_count\":0},\"num_workers\":0}</td><td>5532961833213388336_5516023472852202812_4d23174056d84db39653277be53cddb2</td><td>https://community.cloud.databricks.com</td><td>{\"installable\":[],\"redacted\":[]}</td><td>[{\"artifact_path\":\"log_reg_model\",\"flavors\":{\"python_function\":{\"model_path\":\"model.pkl\",\"loader_module\":\"mlflow.sklearn\",\"python_version\":\"3.9.5\",\"env\":\"conda.yaml\"},\"sklearn\":{\"pickled_model\":\"model.pkl\",\"sklearn_version\":\"1.0.2\",\"serialization_format\":\"cloudpickle\"}},\"run_id\":\"20d36718d5aa4c5a826f9fb577087ae1\",\"utc_time_created\":\"2024-01-07 20:32:02.554050\",\"databricks_runtime\":\"12.2.x-scala2.12\"}]</td></tr></tbody></table></div>"
      ]
     },
     "metadata": {
      "application/vnd.databricks.v1+output": {
       "addedWidgets": {},
       "aggData": [],
       "aggError": "",
       "aggOverflow": false,
       "aggSchema": [],
       "aggSeriesLimitReached": false,
       "aggType": "",
       "arguments": {},
       "columnCustomDisplayInfos": {},
       "data": [
        [
         "5802942076674f449ac318a7597196be",
         "4281508244933278",
         "FAILED",
         "dbfs:/databricks/mlflow-tracking/4281508244933278/5802942076674f449ac318a7597196be/artifacts",
         "2024-01-07T20:32:07.595+0000",
         "2024-01-07T20:43:09.398+0000",
         null,
         null,
         null,
         "0107-195947-boh23abv",
         "1704660189847",
         "oussama.deraoui@um6p.ma",
         "/Users/oussama.deraoui@um6p.ma/5. MLflow-DataBricks",
         "/Users/oussama.deraoui@um6p.ma/5. MLflow-DataBricks",
         "shivering-kit-9",
         "4281508244933253",
         "NOTEBOOK",
         "{\"cluster_name\":\"cluster\",\"spark_version\":\"12.2.x-scala2.12\",\"node_type_id\":\"dev-tier-node\",\"driver_node_type_id\":\"dev-tier-node\",\"autotermination_minutes\":120,\"disk_spec\":{\"disk_count\":0},\"num_workers\":0}",
         "5532961833213388336_6597767223985819418_955fce90da6f458abaed77d009acafc5",
         "https://community.cloud.databricks.com",
         "{\"installable\":[],\"redacted\":[]}",
         null
        ],
        [
         "20d36718d5aa4c5a826f9fb577087ae1",
         "4281508244933278",
         "FINISHED",
         "dbfs:/databricks/mlflow-tracking/4281508244933278/20d36718d5aa4c5a826f9fb577087ae1/artifacts",
         "2024-01-07T20:31:57.824+0000",
         "2024-01-07T20:32:06.376+0000",
         0.8534122528037835,
         0.9987382145736217,
         0.9989250829555545,
         "0107-195947-boh23abv",
         "1704659526752",
         "oussama.deraoui@um6p.ma",
         "/Users/oussama.deraoui@um6p.ma/5. MLflow-DataBricks",
         "/Users/oussama.deraoui@um6p.ma/5. MLflow-DataBricks",
         "tasteful-cow-841",
         "4281508244933253",
         "NOTEBOOK",
         "{\"cluster_name\":\"cluster\",\"spark_version\":\"12.2.x-scala2.12\",\"node_type_id\":\"dev-tier-node\",\"driver_node_type_id\":\"dev-tier-node\",\"autotermination_minutes\":120,\"disk_spec\":{\"disk_count\":0},\"num_workers\":0}",
         "5532961833213388336_5516023472852202812_4d23174056d84db39653277be53cddb2",
         "https://community.cloud.databricks.com",
         "{\"installable\":[],\"redacted\":[]}",
         "[{\"artifact_path\":\"log_reg_model\",\"flavors\":{\"python_function\":{\"model_path\":\"model.pkl\",\"loader_module\":\"mlflow.sklearn\",\"python_version\":\"3.9.5\",\"env\":\"conda.yaml\"},\"sklearn\":{\"pickled_model\":\"model.pkl\",\"sklearn_version\":\"1.0.2\",\"serialization_format\":\"cloudpickle\"}},\"run_id\":\"20d36718d5aa4c5a826f9fb577087ae1\",\"utc_time_created\":\"2024-01-07 20:32:02.554050\",\"databricks_runtime\":\"12.2.x-scala2.12\"}]"
        ]
       ],
       "datasetInfos": [],
       "dbfsResultPath": null,
       "isJsonSchema": true,
       "metadata": {},
       "overflow": false,
       "plotOptions": {
        "customPlotOptions": {},
        "displayType": "table",
        "pivotAggregation": null,
        "pivotColumns": null,
        "xColumns": null,
        "yColumns": null
       },
       "removedWidgets": [],
       "schema": [
        {
         "metadata": "{}",
         "name": "run_id",
         "type": "\"string\""
        },
        {
         "metadata": "{}",
         "name": "experiment_id",
         "type": "\"string\""
        },
        {
         "metadata": "{}",
         "name": "status",
         "type": "\"string\""
        },
        {
         "metadata": "{}",
         "name": "artifact_uri",
         "type": "\"string\""
        },
        {
         "metadata": "{}",
         "name": "start_time",
         "type": "\"timestamp\""
        },
        {
         "metadata": "{}",
         "name": "end_time",
         "type": "\"timestamp\""
        },
        {
         "metadata": "{}",
         "name": "metrics.auc_score",
         "type": "\"double\""
        },
        {
         "metadata": "{}",
         "name": "metrics.eval_acc",
         "type": "\"double\""
        },
        {
         "metadata": "{}",
         "name": "metrics.train_acc",
         "type": "\"double\""
        },
        {
         "metadata": "{}",
         "name": "tags.mlflow.databricks.cluster.id",
         "type": "\"string\""
        },
        {
         "metadata": "{}",
         "name": "tags.mlflow.databricks.notebookRevisionID",
         "type": "\"string\""
        },
        {
         "metadata": "{}",
         "name": "tags.mlflow.user",
         "type": "\"string\""
        },
        {
         "metadata": "{}",
         "name": "tags.mlflow.source.name",
         "type": "\"string\""
        },
        {
         "metadata": "{}",
         "name": "tags.mlflow.databricks.notebookPath",
         "type": "\"string\""
        },
        {
         "metadata": "{}",
         "name": "tags.mlflow.runName",
         "type": "\"string\""
        },
        {
         "metadata": "{}",
         "name": "tags.mlflow.databricks.notebookID",
         "type": "\"string\""
        },
        {
         "metadata": "{}",
         "name": "tags.mlflow.source.type",
         "type": "\"string\""
        },
        {
         "metadata": "{}",
         "name": "tags.mlflow.databricks.cluster.info",
         "type": "\"string\""
        },
        {
         "metadata": "{}",
         "name": "tags.mlflow.databricks.notebook.commandID",
         "type": "\"string\""
        },
        {
         "metadata": "{}",
         "name": "tags.mlflow.databricks.webappURL",
         "type": "\"string\""
        },
        {
         "metadata": "{}",
         "name": "tags.mlflow.databricks.cluster.libraries",
         "type": "\"string\""
        },
        {
         "metadata": "{}",
         "name": "tags.mlflow.log-model.history",
         "type": "\"string\""
        }
       ],
       "type": "table"
      }
     },
     "output_type": "display_data"
    }
   ],
   "source": [
    "all_runs = mlflow.search_runs(max_results=10)  # Note : This is pandas dataframe\n",
    "display(all_runs)"
   ]
  },
  {
   "cell_type": "markdown",
   "metadata": {
    "application/vnd.databricks.v1+cell": {
     "cellMetadata": {
      "byteLimit": 2048000,
      "rowLimit": 10000
     },
     "inputWidgets": {},
     "nuid": "52230943-0dd9-4d07-b541-d5fcd525da8f",
     "showTitle": false,
     "title": ""
    }
   },
   "source": [
    "TAF: \n",
    "\n",
    "1. réexécutez la cellule 18 en utilisant d'autres modèle ML de SKlearn \n",
    "2. comparez vos résultats en utilisant l'outil de comparaison de MLFlow"
   ]
  },
  {
   "cell_type": "code",
   "execution_count": 0,
   "metadata": {
    "application/vnd.databricks.v1+cell": {
     "cellMetadata": {
      "byteLimit": 2048000,
      "rowLimit": 10000
     },
     "inputWidgets": {},
     "nuid": "557e4e7f-be3a-41d1-ab3b-7b8c1d8f6983",
     "showTitle": false,
     "title": ""
    }
   },
   "outputs": [
    {
     "output_type": "stream",
     "name": "stdout",
     "output_type": "stream",
     "text": [
      "Train Accuracy: 99.943%\nAuc Score: 83.833%\nEval Accuracy: 99.877%\n"
     ]
    },
    {
     "output_type": "stream",
     "name": "stderr",
     "output_type": "stream",
     "text": [
      "/databricks/python/lib/python3.9/site-packages/sklearn/utils/deprecation.py:87: FutureWarning: Function plot_roc_curve is deprecated; Function :func:`plot_roc_curve` is deprecated in 1.0 and will be removed in 1.2. Use one of the class methods: :meth:`sklearn.metric.RocCurveDisplay.from_predictions` or :meth:`sklearn.metric.RocCurveDisplay.from_estimator`.\n  warnings.warn(msg, category=FutureWarning)\n"
     ]
    },
    {
     "output_type": "display_data",
     "data": {
      "image/png": "[encoded data removed]"
     },
     "metadata": {
      "application/vnd.databricks.v1+output": {
       "addedWidgets": {},
       "arguments": {},
       "data": "data:image/png;base64,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\n",
       "datasetInfos": [],
       "metadata": {},
       "removedWidgets": [],
       "type": "image"
      }
     },
     "output_type": "display_data"
    },
    {
     "output_type": "stream",
     "name": "stdout",
     "output_type": "stream",
     "text": [
      "Model run:  133bfc3cb78c43d394f6366ac5c1cf1c\n"
     ]
    },
    {
     "output_type": "display_data",
     "data": {
      "image/png": "[encoded data removed]"
     },
     "metadata": {
      "application/vnd.databricks.v1+output": {
       "addedWidgets": {},
       "arguments": {},
       "data": "data:image/png;base64,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\n",
       "datasetInfos": [],
       "metadata": {},
       "removedWidgets": [],
       "type": "image"
      }
     },
     "output_type": "display_data"
    }
   ],
   "source": [
    "from sklearn.svm import SVC\n",
    "svm_model = SVC(random_state=None)\n",
    "\n",
    "# Set up your MLflow experiment\n",
    "mlflow.set_experiment(\"/Users/oussama.deraoui@um6p.ma/scikit_learn_experiment1\")\n",
    "\n",
    "# Start an MLflow run\n",
    "with mlflow.start_run():\n",
    "    train(svm_model, x_train, y_train)\n",
    "    evaluate(svm_model, x_test, y_test)\n",
    "    print(\"Model run: \", mlflow.active_run().info.run_uuid)\n",
    "\n",
    "mlflow.end_run()"
   ]
  },
  {
   "cell_type": "code",
   "execution_count": 0,
   "metadata": {
    "application/vnd.databricks.v1+cell": {
     "cellMetadata": {
      "byteLimit": 2048000,
      "rowLimit": 10000
     },
     "inputWidgets": {},
     "nuid": "363c0b57-e137-439a-98d9-897fd5aae01a",
     "showTitle": false,
     "title": ""
    }
   },
   "outputs": [
    {
     "output_type": "stream",
     "name": "stdout",
     "output_type": "stream",
     "text": [
      "Train Accuracy: 100.000%\nAuc Score: 88.880%\nEval Accuracy: 99.905%\n"
     ]
    },
    {
     "output_type": "stream",
     "name": "stderr",
     "output_type": "stream",
     "text": [
      "/databricks/python/lib/python3.9/site-packages/sklearn/utils/deprecation.py:87: FutureWarning: Function plot_roc_curve is deprecated; Function :func:`plot_roc_curve` is deprecated in 1.0 and will be removed in 1.2. Use one of the class methods: :meth:`sklearn.metric.RocCurveDisplay.from_predictions` or :meth:`sklearn.metric.RocCurveDisplay.from_estimator`.\n  warnings.warn(msg, category=FutureWarning)\n"
     ]
    },
    {
     "output_type": "display_data",
     "data": {
      "image/png": "[encoded data removed]"
     },
     "metadata": {
      "application/vnd.databricks.v1+output": {
       "addedWidgets": {},
       "arguments": {},
       "data": "data:image/png;base64,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\n",
       "datasetInfos": [],
       "metadata": {},
       "removedWidgets": [],
       "type": "image"
      }
     },
     "output_type": "display_data"
    },
    {
     "output_type": "stream",
     "name": "stdout",
     "output_type": "stream",
     "text": [
      "Model run:  8d743b9d49f64e45b8e72b23cb63428f\n"
     ]
    },
    {
     "output_type": "display_data",
     "data": {
      "image/png": "[encoded data removed]"
     },
     "metadata": {
      "application/vnd.databricks.v1+output": {
       "addedWidgets": {},
       "arguments": {},
       "data": "data:image/png;base64,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\n",
       "datasetInfos": [],
       "metadata": {},
       "removedWidgets": [],
       "type": "image"
      }
     },
     "output_type": "display_data"
    }
   ],
   "source": [
    "from sklearn.ensemble import RandomForestClassifier\n",
    "\n",
    "rf_model = RandomForestClassifier(random_state=None)\n",
    "\n",
    "mlflow.set_experiment(\"/Users/oussama.deraoui@um6p.ma/scikit_learn_experiment1\")\n",
    "with mlflow.start_run():\n",
    "    train(rf_model, x_train, y_train)\n",
    "    evaluate(rf_model, x_test, y_test)\n",
    "    mlflow.sklearn.log_model(rf_model, \"random_forest_model\")\n",
    "    print(\"Model run: \", mlflow.active_run().info.run_uuid)\n",
    "\n",
    "# End the MLflow run\n",
    "mlflow.end_run()"
   ]
  },
  {
   "cell_type": "code",
   "execution_count": 0,
   "metadata": {
    "application/vnd.databricks.v1+cell": {
     "cellMetadata": {
      "byteLimit": 2048000,
      "rowLimit": 10000
     },
     "inputWidgets": {},
     "nuid": "ec66a17d-ea34-4699-9241-ccaccedc5114",
     "showTitle": false,
     "title": ""
    }
   },
   "outputs": [],
   "source": []
  }
 ],
 "metadata": {
  "application/vnd.databricks.v1+notebook": {
   "dashboards": [],
   "language": "python",
   "notebookMetadata": {
    "pythonIndentUnit": 2
   },
   "notebookName": "5. MLflow-DataBricks",
   "widgets": {}
  },
  "kernelspec": {
   "display_name": "Python 3 (ipykernel)",
   "language": "python",
   "name": "python3"
  },
  "language_info": {
   "codemirror_mode": {
    "name": "ipython",
    "version": 3
   },
   "file_extension": ".py",
   "mimetype": "text/x-python",
   "name": "python",
   "nbconvert_exporter": "python",
   "pygments_lexer": "ipython3",
   "version": "3.9.12"
  }
 },
 "nbformat": 4,
 "nbformat_minor": 0
}
